{
 "cells": [
  {
   "cell_type": "code",
   "execution_count": 1,
   "metadata": {},
   "outputs": [
    {
     "name": "stdout",
     "output_type": "stream",
     "text": [
      "**MUHAMMAD SHAYAN SIDDIQUI**\n",
      "ENTER YOUR CHEMISTRY MARKS80\n",
      "ENTER YOUR SINDHI  MARKS80\n",
      "ENTER YOUR COMPUTER MARKS80\n",
      "ENTER YOUR ENGLISH MARKS80\n",
      "ENTER YOUR PST MARKS80\n",
      "\n",
      " TOTAL OBTAINED MARKS:  400\n",
      "\n",
      " percentage of all subjects: 80.0\n",
      "GRADE A+\n"
     ]
    }
   ],
   "source": [
    "print('**MUHAMMAD SHAYAN SIDDIQUI**')\n",
    "CHEMISTRY=int(input(\"ENTER YOUR CHEMISTRY MARKS\"))\n",
    "SINDHI=int(input(\"ENTER YOUR SINDHI  MARKS\"))\n",
    "COMPUTER=int(input(\"ENTER YOUR COMPUTER MARKS\"))\n",
    "ENGLISH=int(input(\"ENTER YOUR ENGLISH MARKS\"))\n",
    "PST=int(input(\"ENTER YOUR PST MARKS\"))\n",
    "TOTAL_OBTAINED=(CHEMISTRY+SINDHI+COMPUTER+ENGLISH+PST)\n",
    "print(\"\\n TOTAL OBTAINED MARKS: \" ,TOTAL_OBTAINED)\n",
    "per=(TOTAL_OBTAINED*100)/500\n",
    "print(\"\\n percentage of all subjects:\",per)\n",
    "\n",
    "if per>=80 and per<=100:\n",
    "        print(\"GRADE A+\")\n",
    "elif per>=70 and per<=80:\n",
    "        print(\"GRADE A\")\n",
    "elif per>=60 and per<=70:\n",
    "        print(\"GRADE B\")\n",
    "elif per>=50 and per<=60:\n",
    "        print(\"GRADE C\")\n",
    "elif per>=40 and per<=50:\n",
    "        print(\"GRADE D\")\n",
    "elif per>33 and per<=40:\n",
    "        print(\"GRADE E\")\n",
    "elif per<=33 and per>0:\n",
    "        print(\"GRADE FAIL\")\n",
    "else:\n",
    "    print(\"your are not in list\")\n",
    "                       "
   ]
  },
  {
   "cell_type": "code",
   "execution_count": 6,
   "metadata": {},
   "outputs": [
    {
     "name": "stdout",
     "output_type": "stream",
     "text": [
      "Enter any number6\n",
      "Even Number\n"
     ]
    }
   ],
   "source": [
    "num=int(input(\"Enter any number\"))\n",
    "if num%2==0:\n",
    " print(\"Even Number\")\n",
    "else:\n",
    " print(\"Odd Number\")"
   ]
  },
  {
   "cell_type": "code",
   "execution_count": 9,
   "metadata": {},
   "outputs": [
    {
     "name": "stdout",
     "output_type": "stream",
     "text": [
      "Lenght of list is 6\n"
     ]
    }
   ],
   "source": [
    "a=['1','9','3','44','76','66']\n",
    "print(\"Lenght of list is\" ,len(a))"
   ]
  },
  {
   "cell_type": "code",
   "execution_count": 17,
   "metadata": {},
   "outputs": [
    {
     "name": "stdout",
     "output_type": "stream",
     "text": [
      "45\n"
     ]
    }
   ],
   "source": [
    "a = range(10)\n",
    "# [0,1,2,3,4,5,6,7,8,9]\n",
    "b = sum(a)\n",
    "print(b)"
   ]
  },
  {
   "cell_type": "code",
   "execution_count": 26,
   "metadata": {},
   "outputs": [
    {
     "name": "stdout",
     "output_type": "stream",
     "text": [
      "Largest element is: 99\n"
     ]
    }
   ],
   "source": [
    "list1 = [10, 20, 4, 45, 99] \n",
    "list1.sort() \n",
    "print(\"Largest element is:\", list1[-1]) \n",
    "\n"
   ]
  },
  {
   "cell_type": "code",
   "execution_count": 43,
   "metadata": {},
   "outputs": [
    {
     "ename": "IndentationError",
     "evalue": "expected an indented block (<ipython-input-43-c41b8164499e>, line 3)",
     "output_type": "error",
     "traceback": [
      "\u001b[1;36m  File \u001b[1;32m\"<ipython-input-43-c41b8164499e>\"\u001b[1;36m, line \u001b[1;32m3\u001b[0m\n\u001b[1;33m    if  a[i] <5:\u001b[0m\n\u001b[1;37m     ^\u001b[0m\n\u001b[1;31mIndentationError\u001b[0m\u001b[1;31m:\u001b[0m expected an indented block\n"
     ]
    }
   ],
   "source": [
    "a=[1,1,2,3,5,8,13,21,34,55,]\n",
    "for i in range(10):\n",
    "if  a[i] <5:\n",
    " print(a[i]) \n",
    " print (\"Less than 5 numbers\")"
   ]
  },
  {
   "cell_type": "code",
   "execution_count": null,
   "metadata": {},
   "outputs": [],
   "source": []
  },
  {
   "cell_type": "code",
   "execution_count": null,
   "metadata": {},
   "outputs": [],
   "source": []
  },
  {
   "cell_type": "code",
   "execution_count": null,
   "metadata": {},
   "outputs": [],
   "source": []
  },
  {
   "cell_type": "code",
   "execution_count": null,
   "metadata": {},
   "outputs": [],
   "source": []
  }
 ],
 "metadata": {
  "kernelspec": {
   "display_name": "Python 3",
   "language": "python",
   "name": "python3"
  },
  "language_info": {
   "codemirror_mode": {
    "name": "ipython",
    "version": 3
   },
   "file_extension": ".py",
   "mimetype": "text/x-python",
   "name": "python",
   "nbconvert_exporter": "python",
   "pygments_lexer": "ipython3",
   "version": "3.7.4"
  }
 },
 "nbformat": 4,
 "nbformat_minor": 2
}
